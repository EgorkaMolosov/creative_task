{
  "nbformat": 4,
  "nbformat_minor": 0,
  "metadata": {
    "colab": {
      "provenance": []
    },
    "kernelspec": {
      "name": "python3",
      "display_name": "Python 3"
    },
    "language_info": {
      "name": "python"
    }
  },
  "cells": [
    {
      "cell_type": "markdown",
      "source": [
        "  \n",
        "  \n",
        "\n",
        "---\n",
        "\n",
        "\n",
        "  \n",
        "\n",
        "1.   Вася и Вова пошли в \"Пятёрочку\", набрали себе по корзине продуктов и   \n",
        "        захотели сравнить содеримое их корзин.\n",
        "2.   Ввод: 1ая строка - содержимое корзины Васи через запятую.\n",
        "        2ая строка - содержимое корзины Вовы через запятую.\n",
        "3.   Вывод: 1ая строка - продукты, находящиеся только в корзине Васи.\n",
        "        2ая строка - продукты, находящиеся только в корзине Вовы.\n",
        "        \n",
        "\n",
        "---\n",
        "\n",
        "\n",
        "\n",
        "Пример:   \n",
        "\n",
        "\n",
        "---\n",
        "\n",
        "\n",
        "\n",
        "  Ввод:\n",
        "  \n",
        "Сыр, колбаса, молоко, капуста\n",
        "\n",
        "Колбаса, хлеб, говядина, помидор\n",
        "\n",
        "\n",
        "---\n",
        "\n",
        "\n",
        "  Вывод:\n",
        "\n",
        "молоко сыр капуста\n",
        "\n",
        "хлеб говядина помидор\n",
        "\n",
        "\n",
        "---\n",
        "\n"
      ],
      "metadata": {
        "id": "Q4uKjtuShDH6"
      }
    },
    {
      "cell_type": "code",
      "source": [
        "vasya = (input().split(', '))\n",
        "for i in vasya:\n",
        "  b = vasya.index(i)\n",
        "  i = i.lower()\n",
        "  vasya[b] = i\n",
        "vova = (input().split(', '))\n",
        "for i in vova:\n",
        "  b = vova.index(i)\n",
        "  i = i.lower()\n",
        "  vova[b] = i\n",
        "vasya = set(vasya)\n",
        "vova = set(vova)\n",
        "vasya_only = vasya - vasya.intersection(vova)\n",
        "vova_only = vova - vova.intersection(vasya)\n",
        "print(*vasya_only)\n",
        "print(*vova_only)"
      ],
      "metadata": {
        "id": "lOgG1ZEoj0ve",
        "colab": {
          "base_uri": "https://localhost:8080/"
        },
        "outputId": "38af45f5-10d3-4d36-e503-2cd449d7be37"
      },
      "execution_count": 2,
      "outputs": [
        {
          "output_type": "stream",
          "name": "stdout",
          "text": [
            "Сыр, колбаса, молоко, капуста\n",
            "Колбаса, хлеб, говядина, помидор\n",
            "молоко сыр капуста\n",
            "хлеб говядина помидор\n"
          ]
        }
      ]
    },
    {
      "cell_type": "markdown",
      "source": [
        "\n",
        "\n",
        "---\n",
        "\n",
        "\n",
        "\n",
        "1. Дан словарь, составленный после рыбалки группы друзей, состоящий из имени  \n",
        "   человека и количества рыб, которых он поймал.\n",
        "2. Ввод: имя человека\n",
        "3. Вывод: имена всех людей, которые выловили больше данного человека, если  \n",
        "   таких нет, то выводится: \"Таковых нет\"\n",
        "\n",
        "\n",
        "---\n",
        "Пример:\n",
        "\n",
        "\n",
        "---\n",
        "\n",
        "\n",
        "\n",
        "Ввод:\n",
        "\n",
        "Дима\n",
        "\n",
        "\n",
        "---\n",
        "\n",
        "\n",
        "\n",
        "Ввод:\n",
        "\n",
        "Оля\n",
        "\n",
        "\n",
        "---\n",
        "\n"
      ],
      "metadata": {
        "id": "k67MGJOSm-Ja"
      }
    },
    {
      "cell_type": "code",
      "source": [
        "fish = {'Миша': 20,\n",
        "        'Аксенов': 23,\n",
        "        'Денис': 14,\n",
        "        'Тимур': 17,\n",
        "        'Оля': 34,\n",
        "        'Арсений': 27,\n",
        "        'Дима': 29\n",
        "        }\n",
        "success = []\n",
        "name = input()\n",
        "try:\n",
        "  for i in fish.keys():\n",
        "    if fish[i] > fish[name]:\n",
        "      success.append(i)\n",
        "  if len(success) > 0:\n",
        "    for i in success:\n",
        "      print(i)\n",
        "  else:\n",
        "    print('Таковых нет')\n",
        "except KeyError:\n",
        "  print('Такого человека не было на рыбалке')"
      ],
      "metadata": {
        "colab": {
          "base_uri": "https://localhost:8080/"
        },
        "id": "JVhQUurbChcY",
        "outputId": "fbd81b39-4fba-472a-ab1e-ec23f95a3bda"
      },
      "execution_count": 3,
      "outputs": [
        {
          "output_type": "stream",
          "name": "stdout",
          "text": [
            "Дима\n",
            "Оля\n"
          ]
        }
      ]
    }
  ]
}
